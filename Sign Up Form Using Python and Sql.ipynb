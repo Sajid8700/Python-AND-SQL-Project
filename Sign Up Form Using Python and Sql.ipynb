{
 "cells": [
  {
   "cell_type": "code",
   "execution_count": 1,
   "id": "e324c62c",
   "metadata": {},
   "outputs": [],
   "source": [
    "import numpy as np\n",
    "import pandas as pd"
   ]
  },
  {
   "cell_type": "code",
   "execution_count": 2,
   "id": "23e95f54",
   "metadata": {},
   "outputs": [],
   "source": [
    "import mysql.connector"
   ]
  },
  {
   "cell_type": "code",
   "execution_count": 3,
   "id": "22f035d6",
   "metadata": {},
   "outputs": [
    {
     "data": {
      "text/plain": [
       "<mysql.connector.connection_cext.CMySQLConnection at 0x1ad302ea040>"
      ]
     },
     "execution_count": 3,
     "metadata": {},
     "output_type": "execute_result"
    }
   ],
   "source": [
    "import mysql.connector\n",
    "\n",
    "mydb = mysql.connector.connect(\n",
    "  host=\"localhost\",\n",
    "  user=\"root\",\n",
    "  password=\"1234\",\n",
    "  database=\"abcd\"\n",
    ")\n",
    "mydb"
   ]
  },
  {
   "cell_type": "code",
   "execution_count": 4,
   "id": "6779b360",
   "metadata": {},
   "outputs": [],
   "source": [
    "mycursor = mydb.cursor()"
   ]
  },
  {
   "cell_type": "code",
   "execution_count": 5,
   "id": "16c9970c",
   "metadata": {},
   "outputs": [],
   "source": [
    "mycursor.execute(\"create table if not exists my_data ( username varchar  (20) unique , password varchar (15), name varchar (50),mob varchar (20), gmail varchar (50), address varchar (200))\")"
   ]
  },
  {
   "cell_type": "code",
   "execution_count": 6,
   "id": "c15f4cd6",
   "metadata": {},
   "outputs": [],
   "source": [
    "def signup() :\n",
    "    while True :\n",
    "        username=input(\"enter username :\")\n",
    "        mycursor.execute(\"select username from my_data\")\n",
    "        b=mycursor.fetchall()\n",
    "        a=[i[0]  for i in b]\n",
    "        if username not in b:\n",
    "                break     \n",
    "        else :\n",
    "            print(\"username already exists \\n\")\n",
    "    while True:\n",
    "            p=input(\"enter the password :\")\n",
    "            pc=input(\"enter confirm password :\")\n",
    "            if p==pc:\n",
    "                 break\n",
    "            else :\n",
    "                print(\"password doesn't match\")\n",
    "    name= input(\"enter the name :\")\n",
    "    mob= input (\"enter mob.no :\")\n",
    "    gmail= input (\"enter gmail :\")\n",
    "    address= input (\"enter add :\")\n",
    "    s=\"insert into my_data (username,password,name,mob,gmail,address) values (%s, %s, %s, %s, %s, %s)\"\n",
    "    v=[username,p,name,mob,gmail,address]\n",
    "    mycursor.execute (s,v)\n",
    "    mydb.commit()"
   ]
  },
  {
   "cell_type": "code",
   "execution_count": 7,
   "id": "ca35c16a",
   "metadata": {},
   "outputs": [],
   "source": [
    "def lo():\n",
    "    mycursor.execute(\"select * from my_data\")\n",
    "    b=mycursor.fetchall()\n",
    "    name1=input(\"Enter Name :\")\n",
    "    p1=input(\"Enter Password :\")\n",
    "    k=0\n",
    "    for i in b:\n",
    "        if i[0]==name1 and i[1]==p1:\n",
    "            print(\"your name \",i[2])\n",
    "            print(\"your Mobile \",i[3])\n",
    "            print(\"your Gmail \",i[4])\n",
    "            print(\"your Address \",i[5])\n",
    "            k=1\n",
    "    if k==0:\n",
    "            print(\"User name not found\")"
   ]
  },
  {
   "cell_type": "code",
   "execution_count": 8,
   "id": "2eb53c49",
   "metadata": {},
   "outputs": [
    {
     "name": "stdout",
     "output_type": "stream",
     "text": [
      "Enter 1 for signup and 2 for Login and 3 for cancel :1\n",
      "enter username :khalil\n",
      "enter the password :123\n",
      "enter confirm password :123\n",
      "enter the name :khalil\n",
      "enter mob.no :2013\n",
      "enter gmail :dfghj\n",
      "enter add :dfghjk\n",
      "Enter 1 for signup and 2 for Login and 3 for cancel :3\n",
      "Thanks\n"
     ]
    }
   ],
   "source": [
    "while True:\n",
    "    choose=input(\"Enter 1 for signup and 2 for Login and 3 for cancel :\")\n",
    "    if choose==\"1\":\n",
    "            signup()\n",
    "    elif choose==\"2\":\n",
    "            lo()\n",
    "    elif choose==\"3\":\n",
    "            break\n",
    "    else:\n",
    "        print(\"\\nWrong Input\")\n",
    "mydb.commit()\n",
    "mydb.close()\n",
    "print(\"Thanks\")"
   ]
  },
  {
   "cell_type": "code",
   "execution_count": null,
   "id": "14e2e99f",
   "metadata": {},
   "outputs": [],
   "source": [
    "# data delete\n",
    "# data display\n",
    "# data update/modify"
   ]
  },
  {
   "cell_type": "code",
   "execution_count": 9,
   "id": "5d7f7c3b",
   "metadata": {},
   "outputs": [
    {
     "data": {
      "text/plain": [
       "<mysql.connector.connection_cext.CMySQLConnection at 0x1ad302eac40>"
      ]
     },
     "execution_count": 9,
     "metadata": {},
     "output_type": "execute_result"
    }
   ],
   "source": [
    "import mysql.connector\n",
    "\n",
    "mydb = mysql.connector.connect(\n",
    "  host=\"localhost\",\n",
    "  user=\"root\",\n",
    "  password=\"1234\",\n",
    "  database=\"abcd\"\n",
    ")\n",
    "mydb"
   ]
  },
  {
   "cell_type": "code",
   "execution_count": 10,
   "id": "7616aa0c",
   "metadata": {},
   "outputs": [],
   "source": [
    "mycursor = mydb.cursor()"
   ]
  },
  {
   "cell_type": "code",
   "execution_count": 11,
   "id": "06444e56",
   "metadata": {},
   "outputs": [
    {
     "name": "stdout",
     "output_type": "stream",
     "text": [
      "('k123', '321', 'kashish', '321456', 'k1@gmail.com', 'kolkata')\n",
      "('p123', '654', 'ppoi', '654789', 'p2@gmail.com', 'sgsh')\n",
      "('l123', '654', 'laksh', '789654', 'l3@gmail.com', 'udaipur')\n",
      "('o1245', 'pas543', 'oplk', '5453545', 'j1@gmail.com', 'kjhgf')\n",
      "('khalil', '123', 'khalil', '2013', 'dfghj', 'dfghjk')\n"
     ]
    }
   ],
   "source": [
    "mycursor.execute(\"select * from my_data\")\n",
    "for i in mycursor :\n",
    "    print(i)"
   ]
  },
  {
   "cell_type": "code",
   "execution_count": 12,
   "id": "41b85149",
   "metadata": {},
   "outputs": [],
   "source": [
    "s=\"delete from my_data where address='nagaland'\"\n",
    "mycursor.execute(s)e\n",
    "mydb.commit()"
   ]
  },
  {
   "cell_type": "code",
   "execution_count": 27,
   "id": "fec93465",
   "metadata": {},
   "outputs": [],
   "source": [
    "m=\"update my_data set gmail='j1@gmail.com' where gmail='o9@gmail.com'\"\n",
    "mycursor.execute(m)\n",
    "mydb.commit()"
   ]
  },
  {
   "cell_type": "code",
   "execution_count": 13,
   "id": "55c10563",
   "metadata": {},
   "outputs": [
    {
     "name": "stdout",
     "output_type": "stream",
     "text": [
      "('k123', '321', 'kashish', '321456', 'k1@gmail.com', 'kolkata')\n",
      "('p123', '654', 'ppoi', '654789', 'p2@gmail.com', 'sgsh')\n",
      "('l123', '654', 'laksh', '789654', 'l3@gmail.com', 'udaipur')\n",
      "('o1245', 'pas543', 'oplk', '5453545', 'j1@gmail.com', 'kjhgf')\n",
      "('khalil', '123', 'khalil', '2013', 'dfghj', 'dfghjk')\n"
     ]
    }
   ],
   "source": [
    "mycursor.execute(\"select * from my_data\")\n",
    "for i in mycursor :\n",
    "    print(i)"
   ]
  },
  {
   "cell_type": "code",
   "execution_count": null,
   "id": "d554e60e",
   "metadata": {},
   "outputs": [],
   "source": []
  }
 ],
 "metadata": {
  "kernelspec": {
   "display_name": "Python 3 (ipykernel)",
   "language": "python",
   "name": "python3"
  },
  "language_info": {
   "codemirror_mode": {
    "name": "ipython",
    "version": 3
   },
   "file_extension": ".py",
   "mimetype": "text/x-python",
   "name": "python",
   "nbconvert_exporter": "python",
   "pygments_lexer": "ipython3",
   "version": "3.9.13"
  }
 },
 "nbformat": 4,
 "nbformat_minor": 5
}
